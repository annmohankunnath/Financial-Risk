{
 "cells": [
  {
   "cell_type": "code",
   "execution_count": 4,
   "metadata": {},
   "outputs": [
    {
     "name": "stdout",
     "output_type": "stream",
     "text": [
      "Enter the current Stock Price 20\n",
      "Enter 1 / 2 for the type of the option:  1. European Call 2. European Put 1\n",
      "Enter the time to option expiration in years 2\n",
      "Enter the risk free interest rate .04\n",
      "Enter the option's exercise price 20\n",
      "Enter the annual volatility of the stock price .14\n",
      "Enter the no of steps to be in the binomial tree 2\n",
      "The value of the European call option is  2.22\n"
     ]
    }
   ],
   "source": [
    "import numpy as np\n",
    "import math\n",
    "\n",
    "\n",
    "#The code below inputs the Current Stock Price, Type of Option, Time to Expiration, Risk Free Interest Rate , Exercise Price,\n",
    "#Volatility and no of the steps in the binomial tree from the user\n",
    "\n",
    "stock_price = float(input(\"Enter the current Stock Price \"))\n",
    "option_type =input(\"Enter 1 / 2 for the type of the option:  1. European Call 2. European Put \")\n",
    "time = float(input(\"Enter the time to option expiration in years \"))\n",
    "rfr = float(input(\"Enter the risk free interest rate \"))\n",
    "x_price = float(input(\"Enter the option's exercise price \"))\n",
    "sigma = float(input(\"Enter the annual volatility of the stock price \"))\n",
    "no_steps = int(input(\"Enter the no of steps to be in the binomial tree \"))\n",
    "\n",
    "\n",
    "\n",
    "\n",
    "#The code below calculates the step size of each step in the the binomial tree and assigns it to the variable step size in years\n",
    "\n",
    "step_size = time/no_steps\n",
    "\n",
    "#The code below calculates the up move factor of  the stock and assigns it to the variable up_move_factor\n",
    "\n",
    "up_move_factor = np.exp(sigma) * math.sqrt(step_size)\n",
    "\n",
    "#The code below calculates the down move factor of the stock and assigns it to the variable down_move_factor\n",
    "\n",
    "down_move_factor = 1/up_move_factor\n",
    "\n",
    "#The code below calculates the probability of an up move and assigns it to the variable p_up_move\n",
    "\n",
    "p_up_move = (np.exp(rfr*step_size) - down_move_factor ) / (up_move_factor - down_move_factor)\n",
    "\n",
    "\n",
    "#The code below calculates the probability of a down move and assigns it to the variable p_down_move\n",
    "\n",
    "p_down_move = 1 - p_up_move\n",
    "\n",
    "\n",
    "\n",
    "#code for European Call\n",
    "eur_call_val = round(max(0,(((stock_price * up_move_factor ** no_steps ) - x_price) *  p_up_move ** no_steps) / np.exp(rfr*time)),2)\n",
    "\n",
    "if option_type == '1':\n",
    "  print(\"The value of the European call option is \",eur_call_val)\n",
    "\n",
    "# code for European Put\n",
    "elif option_type == '2':\n",
    "  eur_put_val = round(eur_call_val - stock_price + (x_price / np.exp(rfr*time)),2)\n",
    "  print(\" The value of the European put is \",eur_put_val)\n",
    "\n",
    "else:\n",
    "    print(\"You have entered an invalid option type \")\n",
    "\n",
    "\n",
    "\n",
    "\n"
   ]
  },
  {
   "cell_type": "code",
   "execution_count": null,
   "metadata": {
    "collapsed": true
   },
   "outputs": [],
   "source": []
  }
 ],
 "metadata": {
  "kernelspec": {
   "display_name": "Python 3",
   "language": "python",
   "name": "python3"
  },
  "language_info": {
   "codemirror_mode": {
    "name": "ipython",
    "version": 3
   },
   "file_extension": ".py",
   "mimetype": "text/x-python",
   "name": "python",
   "nbconvert_exporter": "python",
   "pygments_lexer": "ipython3",
   "version": "3.6.3"
  }
 },
 "nbformat": 4,
 "nbformat_minor": 2
}
